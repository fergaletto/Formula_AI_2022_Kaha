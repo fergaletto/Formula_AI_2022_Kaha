{
 "cells": [
  {
   "cell_type": "markdown",
   "id": "a21d8e80",
   "metadata": {},
   "source": [
    "# Formula AI 2022 Hackathon\n",
    "This is a submission for **Challenge 1: Data Analytics** by **Team Kaha**\n",
    "\n",
    "Team memebers: \n",
    "* Austin Chamberlain\n",
    "* Fernando Galetto\n",
    "* Gul Hassan\n",
    "* Rachel J Mah\n",
    "* Sameer Joshi\n",
    "* Waseem Waheed"
   ]
  },
  {
   "cell_type": "markdown",
   "id": "328d4fee",
   "metadata": {},
   "source": [
    "# Data Analytics Challenge\n",
    "\n",
    "The challenge description is provided **[here](https://github.com/oracle-devrel/formula-ai-2022-hackathon/blob/main/challenges/challenge1.md)**\n"
   ]
  },
  {
   "cell_type": "code",
   "execution_count": null,
   "id": "5ac250ab",
   "metadata": {},
   "outputs": [],
   "source": [
    "# Tools used"
   ]
  },
  {
   "cell_type": "markdown",
   "id": "c5482f41",
   "metadata": {},
   "source": [
    "## Table of contents\n",
    "* [1 Data preparation](#first-bullet)\n",
    "* [2 AI/ML Model design](#second-bullet)\n",
    "* [3 Model implementation](#third-bullet)"
   ]
  },
  {
   "cell_type": "markdown",
   "id": "78830d47",
   "metadata": {},
   "source": [
    "# 1 Data Preparation <a class=\"anchor\" id=\"first-bullet\"></a>\n",
    "\n",
    "The data was provided in two formats: csv and json, we chose to use the csv format for convenience, the size of the file is easier to handle on a single machine.\n",
    "\n",
    "The first step is loading the data:"
   ]
  },
  {
   "cell_type": "code",
   "execution_count": 1,
   "id": "53616e21",
   "metadata": {},
   "outputs": [],
   "source": [
    "import pandas as pd\n",
    "raw_data = pd.read_csv('Data/weather.csv',low_memory=False)"
   ]
  },
  {
   "cell_type": "markdown",
   "id": "3477dfd9",
   "metadata": {},
   "source": [
    "The data provided was unnormalized to be layed out in csv file and contains a lot of duplications hence, the next step is to drop all the duplications"
   ]
  },
  {
   "cell_type": "code",
   "execution_count": 2,
   "id": "2fec662d",
   "metadata": {},
   "outputs": [],
   "source": [
    "# Clean the data; \n",
    "raw_data.drop_duplicates(inplace=True)\n",
    "raw_data.dropna(inplace=True, how='all')\n",
    "# suggested filtering\n",
    "raw_data.drop(raw_data.index[raw_data['M_NUM_WEATHER_FORECAST_SAMPLES'] == 0], inplace=True)"
   ]
  },
  {
   "cell_type": "markdown",
   "id": "a4426f1f",
   "metadata": {},
   "source": [
    "The data has a large number of columns but not all of the are relevant to the task, the next step is to define the columns of interest"
   ]
  },
  {
   "cell_type": "code",
   "execution_count": 3,
   "id": "7b378479",
   "metadata": {},
   "outputs": [],
   "source": [
    "cols_to_keep = ['M_SESSION_UID', \n",
    "                'TIMESTAMP', # timestamp for when the packet was received\n",
    "                'M_SESSION_TYPE',\n",
    "                'M_TRACK_TEMPERATURE', # Track temp. in degrees celsius\n",
    "                'M_AIR_TEMPERATURE',\n",
    "                'M_RAIN_PERCENTAGE',\n",
    "                'M_WEATHER',\n",
    "                'M_TIME_OFFSET',\n",
    "                'M_WEATHER_FORECAST_SAMPLES_M_WEATHER',\n",
    "                'M_WEATHER_FORECAST_SAMPLES_M_SESSION_TYPE',\n",
    "                'M_WEATHER_FORECAST_SAMPLES_M_TRACK_TEMPERATURE',\n",
    "                'M_TRACK_TEMPERATURE_CHANGE',\n",
    "                'M_WEATHER_FORECAST_SAMPLES_M_AIR_TEMPERATURE',\n",
    "                'M_AIR_TEMPERATURE_CHANGE',\n",
    "                'M_TRACK_ID'\n",
    "               ]\n",
    "sess_pkt_data = raw_data[cols_to_keep].drop_duplicates()"
   ]
  },
  {
   "cell_type": "markdown",
   "id": "70492d9c",
   "metadata": {},
   "source": [
    "Forcasts are provided at different for different intervals, and the goal is to produce a prediction at t+5, t+10, t+15, t+30 and t+60"
   ]
  },
  {
   "cell_type": "code",
   "execution_count": 4,
   "id": "3c2c2dde",
   "metadata": {},
   "outputs": [
    {
     "data": {
      "text/plain": [
       "array([ nan,   0.,   5.,  10.,  15.,  30.,  45.,  60.,  90., 120.])"
      ]
     },
     "execution_count": 4,
     "metadata": {},
     "output_type": "execute_result"
    }
   ],
   "source": [
    "sess_pkt_data['M_TIME_OFFSET'].unique()"
   ]
  },
  {
   "cell_type": "markdown",
   "id": "6b616b16",
   "metadata": {},
   "source": [
    "A further reduction in the number of rows can be achieved by dropping the forecasts at offsets that are not relevant"
   ]
  },
  {
   "cell_type": "code",
   "execution_count": 5,
   "id": "98464ba1",
   "metadata": {},
   "outputs": [
    {
     "data": {
      "text/plain": [
       "array([ 0.,  5., 10., 15., 30., 60.])"
      ]
     },
     "execution_count": 5,
     "metadata": {},
     "output_type": "execute_result"
    }
   ],
   "source": [
    "# Remove rows with time_offsets not required. \n",
    "sess_pkt_data.drop(sess_pkt_data.index[sess_pkt_data['M_TIME_OFFSET'].isnull()==True], inplace=True)      \n",
    "sess_pkt_data.drop(sess_pkt_data.index[sess_pkt_data['M_TIME_OFFSET'].isin([45, 90, 120])==True], inplace=True)      \n",
    "sess_pkt_data['M_TIME_OFFSET'].unique()"
   ]
  },
  {
   "cell_type": "markdown",
   "id": "c8149c51",
   "metadata": {},
   "source": [
    "Another data timestamp there are multiple predictions with same offsets, "
   ]
  },
  {
   "cell_type": "code",
   "execution_count": 6,
   "id": "5dd3587a",
   "metadata": {},
   "outputs": [
    {
     "data": {
      "text/plain": [
       "6    82653\n",
       "1    35651\n",
       "3    22311\n",
       "Name: M_TIME_OFFSET, dtype: int64"
      ]
     },
     "execution_count": 6,
     "metadata": {},
     "output_type": "execute_result"
    }
   ],
   "source": [
    "sess_pkt_data.groupby(['M_SESSION_UID','TIMESTAMP','M_SESSION_TYPE', 'M_WEATHER_FORECAST_SAMPLES_M_SESSION_TYPE']).count()['M_TIME_OFFSET'].value_counts()"
   ]
  },
  {
   "cell_type": "markdown",
   "id": "2554a89d",
   "metadata": {},
   "source": [
    "Now that the data is ready to process, we need to check if the sessions are long enough to verify the accuracy of the game forecasts, this means we need to check if we have more than 1hr timestamps per session "
   ]
  },
  {
   "cell_type": "code",
   "execution_count": 7,
   "id": "8e3ee0a9",
   "metadata": {},
   "outputs": [
    {
     "data": {
      "text/plain": [
       "<AxesSubplot:>"
      ]
     },
     "execution_count": 7,
     "metadata": {},
     "output_type": "execute_result"
    },
    {
     "data": {
      "image/png": "[encoded data removed]",
      "text/plain": [
       "<Figure size 432x288 with 1 Axes>"
      ]
     },
     "metadata": {
      "needs_background": "light"
     },
     "output_type": "display_data"
    }
   ],
   "source": [
    "# Session duration, this is calculated using the number of timestamps available in the data keeping in mind that 1 timestamp is equivalent to 1 sec\n",
    "sess_pkt_data[sess_pkt_data['M_TIME_OFFSET']==5].groupby(['M_SESSION_UID','M_WEATHER_FORECAST_SAMPLES_M_SESSION_TYPE' ]).count()['TIMESTAMP'].hist(bins=[0,300, 600, 900, 1800, 3600])"
   ]
  },
  {
   "cell_type": "markdown",
   "id": "c806b74e",
   "metadata": {},
   "source": [
    "Next, we save a copy of the data after the initial cleanup "
   ]
  },
  {
   "cell_type": "code",
   "execution_count": 8,
   "id": "dff33b7c",
   "metadata": {},
   "outputs": [],
   "source": [
    "sess_pkt_data.to_csv('Data/cleaned_data.csv', index=False)"
   ]
  },
  {
   "cell_type": "markdown",
   "id": "a86cbd5e",
   "metadata": {},
   "source": [
    "To be able to train a model to predict the weather and perciptation at t+5, t+10, t+15, t+30 and t+60, ground truth should be generated which can be found by looking at the timestamp 5 min ahead then 10 min ahead and so one. Some session lenghts are too short so a few cells of these new columns won't be populated. Nevertheless, we can use only the populated ones to train the model. \n",
    "\n",
    "**NOTE:** This process is iterative so it could take several minutes to complete. "
   ]
  },
  {
   "cell_type": "code",
   "execution_count": 9,
   "id": "7cf52420",
   "metadata": {},
   "outputs": [
    {
     "data": {
      "application/vnd.jupyter.widget-view+json": {
       "model_id": "10164cf413bc47afa74f65a12ca7510b",
       "version_major": 2,
       "version_minor": 0
      },
      "text/plain": [
       "IntProgress(value=0, max=598502)"
      ]
     },
     "metadata": {},
     "output_type": "display_data"
    }
   ],
   "source": [
    "import numpy as np\n",
    "from ipywidgets import IntProgress\n",
    "from IPython.display import display\n",
    "\n",
    "ground_truth_data = sess_pkt_data.copy().reset_index(drop=True); # Array to iterate over rows. \n",
    "\n",
    "weather_gt = np.empty((ground_truth_data.shape[0])); # Array for weather values\n",
    "rain_gt = np.empty((ground_truth_data.shape[0]));# Array for ran values. \n",
    "\n",
    "# Progress bar\n",
    "f = IntProgress(value = 0, min=0, max=ground_truth_data.shape[0]) \n",
    "display(f) \n",
    "\n",
    "for index, c_row in ground_truth_data.iterrows():\n",
    "    gt_timestamp = c_row['TIMESTAMP'] + c_row['M_TIME_OFFSET'] * 60; # Ground truth timestamp. M_TIME_OFFSET\n",
    "    # find the Row of interest:\n",
    "    roi = ground_truth_data[(ground_truth_data['M_SESSION_UID']==c_row['M_SESSION_UID']) \\\n",
    "              & (ground_truth_data['TIMESTAMP']==gt_timestamp) \\\n",
    "              & (ground_truth_data['M_WEATHER_FORECAST_SAMPLES_M_SESSION_TYPE']==c_row['M_WEATHER_FORECAST_SAMPLES_M_SESSION_TYPE']) \\\n",
    "              & (ground_truth_data['M_TIME_OFFSET']==0)]\n",
    "    # if a raw complies with the condition save the values into the GT arrays. \n",
    "    try:\n",
    "        weather_gt[index] = roi['M_WEATHER'].values[0]\n",
    "        rain_gt[index] = roi['M_RAIN_PERCENTAGE'].values[0]\n",
    "    except:\n",
    "        weather_gt[index] = np.nan\n",
    "        rain_gt[index] = np.nan\n",
    "        continue\n",
    "    # signal to increment the progress bar    \n",
    "    f.value = index "
   ]
  },
  {
   "cell_type": "code",
   "execution_count": 10,
   "id": "b93571d6",
   "metadata": {},
   "outputs": [],
   "source": [
    "# Convert ground truth arrays to columns\n",
    "ground_truth_data['GT_M_WEATHER'] = pd.Series(weather_gt)\n",
    "ground_truth_data['GT_M_RAIN_PERCENTAGE'] = pd.Series(rain_gt)"
   ]
  },
  {
   "cell_type": "markdown",
   "id": "424a827c",
   "metadata": {},
   "source": [
    "The cleaned data is saved into a new csv file so the cleaning process do not need to be repeated. "
   ]
  },
  {
   "cell_type": "code",
   "execution_count": 11,
   "id": "8ccd62cd",
   "metadata": {},
   "outputs": [],
   "source": [
    "ground_truth_data.to_csv('Data/cleaned_data_gt.csv', index=False)"
   ]
  },
  {
   "cell_type": "markdown",
   "id": "96b5f55d",
   "metadata": {},
   "source": [
    "A sample of the data is showed below for reference: "
   ]
  },
  {
   "cell_type": "code",
   "execution_count": 12,
   "id": "61fd7243",
   "metadata": {},
   "outputs": [
    {
     "data": {
      "text/html": [
       "<div>\n",
       "<style scoped>\n",
       "    .dataframe tbody tr th:only-of-type {\n",
       "        vertical-align: middle;\n",
       "    }\n",
       "\n",
       "    .dataframe tbody tr th {\n",
       "        vertical-align: top;\n",
       "    }\n",
       "\n",
       "    .dataframe thead th {\n",
       "        text-align: right;\n",
       "    }\n",
       "</style>\n",
       "<table border=\"1\" class=\"dataframe\">\n",
       "  <thead>\n",
       "    <tr style=\"text-align: right;\">\n",
       "      <th></th>\n",
       "      <th>M_SESSION_UID</th>\n",
       "      <th>TIMESTAMP</th>\n",
       "      <th>M_SESSION_TYPE</th>\n",
       "      <th>M_TRACK_TEMPERATURE</th>\n",
       "      <th>M_AIR_TEMPERATURE</th>\n",
       "      <th>M_RAIN_PERCENTAGE</th>\n",
       "      <th>M_WEATHER</th>\n",
       "      <th>M_TIME_OFFSET</th>\n",
       "      <th>M_WEATHER_FORECAST_SAMPLES_M_WEATHER</th>\n",
       "      <th>M_WEATHER_FORECAST_SAMPLES_M_SESSION_TYPE</th>\n",
       "      <th>M_WEATHER_FORECAST_SAMPLES_M_TRACK_TEMPERATURE</th>\n",
       "      <th>M_TRACK_TEMPERATURE_CHANGE</th>\n",
       "      <th>M_WEATHER_FORECAST_SAMPLES_M_AIR_TEMPERATURE</th>\n",
       "      <th>M_AIR_TEMPERATURE_CHANGE</th>\n",
       "      <th>M_TRACK_ID</th>\n",
       "      <th>GT_M_WEATHER</th>\n",
       "      <th>GT_M_RAIN_PERCENTAGE</th>\n",
       "    </tr>\n",
       "  </thead>\n",
       "  <tbody>\n",
       "    <tr>\n",
       "      <th>0</th>\n",
       "      <td>2939734289500381614</td>\n",
       "      <td>1.642724e+09</td>\n",
       "      <td>8</td>\n",
       "      <td>33</td>\n",
       "      <td>25</td>\n",
       "      <td>1.0</td>\n",
       "      <td>0</td>\n",
       "      <td>0.0</td>\n",
       "      <td>0.0</td>\n",
       "      <td>8.0</td>\n",
       "      <td>33.0</td>\n",
       "      <td>2.0</td>\n",
       "      <td>25.0</td>\n",
       "      <td>2.0</td>\n",
       "      <td>28</td>\n",
       "      <td>0.0</td>\n",
       "      <td>1.0</td>\n",
       "    </tr>\n",
       "    <tr>\n",
       "      <th>1</th>\n",
       "      <td>2939734289500381614</td>\n",
       "      <td>1.642724e+09</td>\n",
       "      <td>8</td>\n",
       "      <td>33</td>\n",
       "      <td>25</td>\n",
       "      <td>1.0</td>\n",
       "      <td>0</td>\n",
       "      <td>5.0</td>\n",
       "      <td>0.0</td>\n",
       "      <td>8.0</td>\n",
       "      <td>33.0</td>\n",
       "      <td>2.0</td>\n",
       "      <td>25.0</td>\n",
       "      <td>2.0</td>\n",
       "      <td>28</td>\n",
       "      <td>0.0</td>\n",
       "      <td>1.0</td>\n",
       "    </tr>\n",
       "    <tr>\n",
       "      <th>2</th>\n",
       "      <td>2939734289500381614</td>\n",
       "      <td>1.642724e+09</td>\n",
       "      <td>8</td>\n",
       "      <td>33</td>\n",
       "      <td>25</td>\n",
       "      <td>2.0</td>\n",
       "      <td>0</td>\n",
       "      <td>10.0</td>\n",
       "      <td>0.0</td>\n",
       "      <td>8.0</td>\n",
       "      <td>33.0</td>\n",
       "      <td>2.0</td>\n",
       "      <td>25.0</td>\n",
       "      <td>2.0</td>\n",
       "      <td>28</td>\n",
       "      <td>0.0</td>\n",
       "      <td>2.0</td>\n",
       "    </tr>\n",
       "    <tr>\n",
       "      <th>3</th>\n",
       "      <td>2939734289500381614</td>\n",
       "      <td>1.642724e+09</td>\n",
       "      <td>8</td>\n",
       "      <td>33</td>\n",
       "      <td>25</td>\n",
       "      <td>5.0</td>\n",
       "      <td>0</td>\n",
       "      <td>0.0</td>\n",
       "      <td>1.0</td>\n",
       "      <td>10.0</td>\n",
       "      <td>32.0</td>\n",
       "      <td>1.0</td>\n",
       "      <td>24.0</td>\n",
       "      <td>1.0</td>\n",
       "      <td>28</td>\n",
       "      <td>0.0</td>\n",
       "      <td>5.0</td>\n",
       "    </tr>\n",
       "    <tr>\n",
       "      <th>4</th>\n",
       "      <td>2939734289500381614</td>\n",
       "      <td>1.642724e+09</td>\n",
       "      <td>8</td>\n",
       "      <td>33</td>\n",
       "      <td>25</td>\n",
       "      <td>5.0</td>\n",
       "      <td>0</td>\n",
       "      <td>5.0</td>\n",
       "      <td>1.0</td>\n",
       "      <td>10.0</td>\n",
       "      <td>32.0</td>\n",
       "      <td>2.0</td>\n",
       "      <td>24.0</td>\n",
       "      <td>2.0</td>\n",
       "      <td>28</td>\n",
       "      <td>0.0</td>\n",
       "      <td>5.0</td>\n",
       "    </tr>\n",
       "  </tbody>\n",
       "</table>\n",
       "</div>"
      ],
      "text/plain": [
       "         M_SESSION_UID     TIMESTAMP  M_SESSION_TYPE  M_TRACK_TEMPERATURE  \\\n",
       "0  2939734289500381614  1.642724e+09               8                   33   \n",
       "1  2939734289500381614  1.642724e+09               8                   33   \n",
       "2  2939734289500381614  1.642724e+09               8                   33   \n",
       "3  2939734289500381614  1.642724e+09               8                   33   \n",
       "4  2939734289500381614  1.642724e+09               8                   33   \n",
       "\n",
       "   M_AIR_TEMPERATURE  M_RAIN_PERCENTAGE  M_WEATHER  M_TIME_OFFSET  \\\n",
       "0                 25                1.0          0            0.0   \n",
       "1                 25                1.0          0            5.0   \n",
       "2                 25                2.0          0           10.0   \n",
       "3                 25                5.0          0            0.0   \n",
       "4                 25                5.0          0            5.0   \n",
       "\n",
       "   M_WEATHER_FORECAST_SAMPLES_M_WEATHER  \\\n",
       "0                                   0.0   \n",
       "1                                   0.0   \n",
       "2                                   0.0   \n",
       "3                                   1.0   \n",
       "4                                   1.0   \n",
       "\n",
       "   M_WEATHER_FORECAST_SAMPLES_M_SESSION_TYPE  \\\n",
       "0                                        8.0   \n",
       "1                                        8.0   \n",
       "2                                        8.0   \n",
       "3                                       10.0   \n",
       "4                                       10.0   \n",
       "\n",
       "   M_WEATHER_FORECAST_SAMPLES_M_TRACK_TEMPERATURE  M_TRACK_TEMPERATURE_CHANGE  \\\n",
       "0                                            33.0                         2.0   \n",
       "1                                            33.0                         2.0   \n",
       "2                                            33.0                         2.0   \n",
       "3                                            32.0                         1.0   \n",
       "4                                            32.0                         2.0   \n",
       "\n",
       "   M_WEATHER_FORECAST_SAMPLES_M_AIR_TEMPERATURE  M_AIR_TEMPERATURE_CHANGE  \\\n",
       "0                                          25.0                       2.0   \n",
       "1                                          25.0                       2.0   \n",
       "2                                          25.0                       2.0   \n",
       "3                                          24.0                       1.0   \n",
       "4                                          24.0                       2.0   \n",
       "\n",
       "   M_TRACK_ID  GT_M_WEATHER  GT_M_RAIN_PERCENTAGE  \n",
       "0          28           0.0                   1.0  \n",
       "1          28           0.0                   1.0  \n",
       "2          28           0.0                   2.0  \n",
       "3          28           0.0                   5.0  \n",
       "4          28           0.0                   5.0  "
      ]
     },
     "execution_count": 12,
     "metadata": {},
     "output_type": "execute_result"
    }
   ],
   "source": [
    "ground_truth_data.head()"
   ]
  },
  {
   "cell_type": "markdown",
   "id": "8ac8dc8c",
   "metadata": {},
   "source": [
    "# 2 AI/ML Model design <a class=\"anchor\" id=\"second-bullet\"></a>\n",
    "\n",
    "We aimed to produce two ML models, one to predict the weather type and another to predict the rain percentage, we then will use aggregation to produce the output dictionary. \n",
    "\n",
    "We tackle the problem of **weather type prediction** as a classification problem. As initial approach we decided to use a Random Forest Classifier architecture to perform the task. Several models were trained to compare accuracy, each model contains the data for each interval (t+5, t+10, t+15, t+30 and t+60) and its predecessors. The idea is to evaluate if the prediction at t+60 has enough accuracy or affect the overall classifier performance. \n",
    "\n",
    "We conclude that one classifier can make the job as long as is trained with the forecast at all time offsets (t+5, t+10, t+15, t+30 and t+60) as long as the Time offset is used as a feature. \n",
    "\n",
    "The **rain percentage prediction** is tackled using regression. Using the whole range of samples we train two models a Decision Tree Regressor and a Random Forest Regressor. Both models presented a similar Mean Absolute Error so we decided to keep both. \n",
    "\n"
   ]
  },
  {
   "cell_type": "code",
   "execution_count": 20,
   "id": "3f1db2b9",
   "metadata": {},
   "outputs": [],
   "source": [
    "from sklearn.ensemble import RandomForestClassifier\n",
    "from sklearn.model_selection import train_test_split\n",
    "from sklearn.metrics import ConfusionMatrixDisplay\n",
    "from sklearn.model_selection import RepeatedStratifiedKFold\n",
    "from sklearn.model_selection import cross_val_score\n",
    "import matplotlib.pylab as plt\n",
    "import pandas as pd\n",
    "import numpy as np\n",
    "import pickle"
   ]
  },
  {
   "cell_type": "markdown",
   "id": "0936b294",
   "metadata": {},
   "source": [
    "Load the cleaned data:"
   ]
  },
  {
   "cell_type": "code",
   "execution_count": 21,
   "id": "8e81dcbb",
   "metadata": {},
   "outputs": [],
   "source": [
    "clean_data = pd.read_csv('Data/cleaned_data_gt.csv',low_memory=False)"
   ]
  },
  {
   "cell_type": "markdown",
   "id": "8d92e12c",
   "metadata": {},
   "source": [
    "Next, create the list of features"
   ]
  },
  {
   "cell_type": "code",
   "execution_count": 22,
   "id": "dac8ed24",
   "metadata": {},
   "outputs": [],
   "source": [
    "features = ['M_TIME_OFFSET',\n",
    "            'M_TRACK_TEMPERATURE',\n",
    "            'M_AIR_TEMPERATURE',\n",
    "            'M_RAIN_PERCENTAGE', \n",
    "            'M_WEATHER', \n",
    "            'M_WEATHER_FORECAST_SAMPLES_M_WEATHER',\n",
    "            'M_WEATHER_FORECAST_SAMPLES_M_TRACK_TEMPERATURE',\n",
    "            'M_TRACK_TEMPERATURE_CHANGE',\n",
    "            'M_WEATHER_FORECAST_SAMPLES_M_AIR_TEMPERATURE',\n",
    "            'M_AIR_TEMPERATURE_CHANGE']"
   ]
  },
  {
   "cell_type": "code",
   "execution_count": 23,
   "id": "4670654d",
   "metadata": {},
   "outputs": [],
   "source": [
    "# model evaluation function\n",
    "def evaluate_model(X, y, model):\n",
    "    # define evaluation procedure\n",
    "    cv = RepeatedStratifiedKFold(n_splits=5, n_repeats=3, random_state=1)\n",
    "    # evaluate model\n",
    "    scores = cross_val_score(model, X, y, scoring='accuracy', cv=cv, n_jobs=-1)\n",
    "    # summarize performance\n",
    "    print('Mean Accuracy: %.3f (%.3f)' % (np.mean(scores), np.std(scores)))"
   ]
  },
  {
   "cell_type": "code",
   "execution_count": 24,
   "id": "3da94842",
   "metadata": {},
   "outputs": [],
   "source": [
    "# model fitting function\n",
    "def fit_model(X, y, model):\n",
    "    X_train, X_test, y_train, y_test = train_test_split(X, y, test_size=0.33)\n",
    "    model.fit(X_train, y_train)\n",
    "    y_pred = model.predict(X_test)\n",
    "    ConfusionMatrixDisplay.from_predictions(y_test, y_pred)\n",
    "    plt.show()\n",
    "    return model"
   ]
  },
  {
   "cell_type": "markdown",
   "id": "af968990",
   "metadata": {},
   "source": [
    "## 2.1 Weather type prediction:\n",
    "\n",
    "### 5 min prediction"
   ]
  },
  {
   "cell_type": "code",
   "execution_count": 25,
   "id": "a316e964",
   "metadata": {},
   "outputs": [
    {
     "name": "stdout",
     "output_type": "stream",
     "text": [
      "Mean Accuracy: 1.000 (0.000)\n"
     ]
    }
   ],
   "source": [
    "df5min = clean_data[(clean_data['M_TIME_OFFSET'].isin([0,5])) & \\\n",
    "                    (clean_data['GT_M_WEATHER'].isnull() == False)]\n",
    "X = df5min[features]\n",
    "y = df5min['GT_M_WEATHER']\n",
    "weather_model_5 = RandomForestClassifier(max_depth=4, class_weight='balanced')\n",
    "evaluate_model(X, y, weather_model_5)"
   ]
  },
  {
   "cell_type": "code",
   "execution_count": 26,
   "id": "69a2f39d",
   "metadata": {},
   "outputs": [
    {
     "data": {
      "image/png": "[encoded data removed]",
      "text/plain": [
       "<Figure size 432x288 with 2 Axes>"
      ]
     },
     "metadata": {
      "needs_background": "light"
     },
     "output_type": "display_data"
    }
   ],
   "source": [
    "weather_model_5 = fit_model(X, y, weather_model_5)"
   ]
  },
  {
   "cell_type": "markdown",
   "id": "b3ed91e2",
   "metadata": {},
   "source": [
    "### 10 min prediction"
   ]
  },
  {
   "cell_type": "code",
   "execution_count": 29,
   "id": "c830ffc5",
   "metadata": {},
   "outputs": [
    {
     "name": "stdout",
     "output_type": "stream",
     "text": [
      "Mean Accuracy: 0.998 (0.000)\n"
     ]
    }
   ],
   "source": [
    "df10min = clean_data[(clean_data['M_TIME_OFFSET'].isin([0,5,10])) & \\\n",
    "             (clean_data['GT_M_WEATHER'].isnull() == False)]\n",
    "\n",
    "X = df10min[features]\n",
    "y = df10min['GT_M_WEATHER']\n",
    "weather_model_10 = RandomForestClassifier(max_depth=4, class_weight='balanced')\n",
    "evaluate_model(X, y, weather_model_10)"
   ]
  },
  {
   "cell_type": "code",
   "execution_count": 30,
   "id": "5bb68e7b",
   "metadata": {},
   "outputs": [
    {
     "data": {
      "image/png": "[encoded data removed]",
      "text/plain": [
       "<Figure size 432x288 with 2 Axes>"
      ]
     },
     "metadata": {
      "needs_background": "light"
     },
     "output_type": "display_data"
    }
   ],
   "source": [
    "weather_model_10 = fit_model(X, y, weather_model_10)"
   ]
  },
  {
   "cell_type": "markdown",
   "id": "8687510e",
   "metadata": {},
   "source": [
    "### 15 min Prediction"
   ]
  },
  {
   "cell_type": "code",
   "execution_count": 32,
   "id": "bb29ca12",
   "metadata": {},
   "outputs": [
    {
     "name": "stdout",
     "output_type": "stream",
     "text": [
      "Mean Accuracy: 0.997 (0.000)\n"
     ]
    }
   ],
   "source": [
    "# Weather \n",
    "df15min = clean_data[(clean_data['M_TIME_OFFSET'].isin([0,5,10,15])) & \\\n",
    "             (clean_data['GT_M_WEATHER'].isnull() == False)]\n",
    "X = df15min[features]\n",
    "y = df15min['GT_M_WEATHER']\n",
    "weather_model_15 = RandomForestClassifier(max_depth=4, class_weight='balanced')\n",
    "evaluate_model(X, y, weather_model_15)"
   ]
  },
  {
   "cell_type": "code",
   "execution_count": 33,
   "id": "58c22385",
   "metadata": {},
   "outputs": [
    {
     "data": {
      "image/png": "[encoded data removed]",
      "text/plain": [
       "<Figure size 432x288 with 2 Axes>"
      ]
     },
     "metadata": {
      "needs_background": "light"
     },
     "output_type": "display_data"
    }
   ],
   "source": [
    "weather_model_15 = fit_model(X, y, weather_model_15)"
   ]
  },
  {
   "cell_type": "markdown",
   "id": "38240822",
   "metadata": {},
   "source": [
    "### 30 min prediction"
   ]
  },
  {
   "cell_type": "code",
   "execution_count": 35,
   "id": "1725d944",
   "metadata": {},
   "outputs": [
    {
     "name": "stdout",
     "output_type": "stream",
     "text": [
      "Mean Accuracy: 0.997 (0.000)\n"
     ]
    }
   ],
   "source": [
    "# Weather \n",
    "df30min = clean_data[(clean_data['M_TIME_OFFSET'].isin([0,5,10,15,30])) & \\\n",
    "             (clean_data['GT_M_WEATHER'].isnull() == False)]\n",
    "X = df30min[features]\n",
    "y = df30min['GT_M_WEATHER']\n",
    "weather_model_30 = RandomForestClassifier(max_depth=4, class_weight='balanced')\n",
    "evaluate_model(X, y, weather_model_30)"
   ]
  },
  {
   "cell_type": "code",
   "execution_count": 36,
   "id": "6bea553f",
   "metadata": {},
   "outputs": [
    {
     "data": {
      "image/png": "[encoded data removed]",
      "text/plain": [
       "<Figure size 432x288 with 2 Axes>"
      ]
     },
     "metadata": {
      "needs_background": "light"
     },
     "output_type": "display_data"
    }
   ],
   "source": [
    "weather_model_30 = fit_model(X, y, weather_model_30)"
   ]
  },
  {
   "cell_type": "markdown",
   "id": "377de95d",
   "metadata": {},
   "source": [
    "### 60 Min prediction\n",
    "\n",
    "We only need this model because it is able to predict all the forecasts since the time offset is an input, we need to evaluate how accurate is on each time offset. "
   ]
  },
  {
   "cell_type": "code",
   "execution_count": 39,
   "id": "992e646b",
   "metadata": {},
   "outputs": [
    {
     "name": "stdout",
     "output_type": "stream",
     "text": [
      "Mean Accuracy: 0.997 (0.003)\n"
     ]
    }
   ],
   "source": [
    "# Weather \n",
    "df60min = clean_data[(clean_data['M_TIME_OFFSET'].isin([5,10,15,60])) &\n",
    "             (clean_data['GT_M_WEATHER'].isnull() == False)]\n",
    "X = df60min[features]\n",
    "y = df60min['GT_M_WEATHER']\n",
    "weather_model_60 = RandomForestClassifier(max_depth=4, class_weight='balanced')\n",
    "evaluate_model(X, y, weather_model_60)"
   ]
  },
  {
   "cell_type": "code",
   "execution_count": 40,
   "id": "d58023ed",
   "metadata": {},
   "outputs": [
    {
     "data": {
      "image/png": "[encoded data removed]",
      "text/plain": [
       "<Figure size 432x288 with 2 Axes>"
      ]
     },
     "metadata": {
      "needs_background": "light"
     },
     "output_type": "display_data"
    }
   ],
   "source": [
    "weather_model_60 = fit_model(X, y, weather_model_60)"
   ]
  },
  {
   "cell_type": "markdown",
   "id": "f2318125",
   "metadata": {},
   "source": [
    "Since the last model can predict the weather type at all time offsets we decided to keep it as a winner. "
   ]
  },
  {
   "cell_type": "code",
   "execution_count": 41,
   "id": "4094d013",
   "metadata": {},
   "outputs": [],
   "source": [
    "\n",
    "# Save the model. \n",
    "import pickle\n",
    "filename = 'Models/Weather_RandomForestClassifier.pkl'\n",
    "# Open the file to save as pkl file\n",
    "classifier_pkl = open(filename, 'wb')\n",
    "pickle.dump(weather_model_60, classifier_pkl)\n",
    "# Close the pickle instances\n",
    "classifier_pkl.close()"
   ]
  },
  {
   "cell_type": "markdown",
   "id": "8ecc34c3",
   "metadata": {},
   "source": [
    "We studied the feature importance for the classifier:"
   ]
  },
  {
   "cell_type": "code",
   "execution_count": 44,
   "id": "fd01db80",
   "metadata": {},
   "outputs": [],
   "source": [
    "# Feature importance\n",
    "feature_imp = pd.Series(weather_model_60.feature_importances_,index=features).sort_values(ascending=False)"
   ]
  },
  {
   "cell_type": "code",
   "execution_count": 45,
   "id": "d8877bb0",
   "metadata": {},
   "outputs": [
    {
     "name": "stderr",
     "output_type": "stream",
     "text": [
      "No artists with labels found to put in legend.  Note that artists whose label start with an underscore are ignored when legend() is called with no argument.\n"
     ]
    },
    {
     "data": {
      "image/png": "[encoded data removed]",
      "text/plain": [
       "<Figure size 432x288 with 1 Axes>"
      ]
     },
     "metadata": {
      "needs_background": "light"
     },
     "output_type": "display_data"
    }
   ],
   "source": [
    "import matplotlib.pyplot as plt\n",
    "import seaborn as sns\n",
    "%matplotlib inline\n",
    "# Creating a bar plot\n",
    "sns.barplot(x=feature_imp, y=feature_imp.index)\n",
    "# Add labels to your graph\n",
    "plt.xlabel('Feature Importance Score')\n",
    "plt.ylabel('Features')\n",
    "plt.title(\"Visualizing Important Features\")\n",
    "plt.legend()\n",
    "plt.show()"
   ]
  },
  {
   "cell_type": "markdown",
   "id": "cc3e981e",
   "metadata": {},
   "source": [
    "## 2.2 Rain percentage prediction\n",
    "\n",
    "The features used to predict the rain percentage are initially set to be the same as the features used for weather type prediction. This was decided for simplicity so the data do not need to be adapted twice. \n"
   ]
  },
  {
   "cell_type": "code",
   "execution_count": 46,
   "id": "2b569f26",
   "metadata": {},
   "outputs": [],
   "source": [
    "features_rain = [\n",
    "            'M_TIME_OFFSET',\n",
    "            'M_TRACK_TEMPERATURE',\n",
    "            'M_AIR_TEMPERATURE',\n",
    "            'M_RAIN_PERCENTAGE', \n",
    "            'M_WEATHER',  \n",
    "            'M_WEATHER_FORECAST_SAMPLES_M_WEATHER',\n",
    "            'M_WEATHER_FORECAST_SAMPLES_M_TRACK_TEMPERATURE',\n",
    "            'M_TRACK_TEMPERATURE_CHANGE',\n",
    "            'M_WEATHER_FORECAST_SAMPLES_M_AIR_TEMPERATURE',\n",
    "            'M_AIR_TEMPERATURE_CHANGE'\n",
    "           ]"
   ]
  },
  {
   "cell_type": "markdown",
   "id": "54978ffd",
   "metadata": {},
   "source": [
    "### 2.2.1 Model 1: Random Forest Regressor"
   ]
  },
  {
   "cell_type": "code",
   "execution_count": 56,
   "id": "2ebf12e1",
   "metadata": {
    "scrolled": true
   },
   "outputs": [],
   "source": [
    "\n",
    "\n",
    "# Refine the data. \n",
    "df60min = clean_data[(clean_data['M_TIME_OFFSET'].isin([5,10,15,30,60]))&(clean_data['GT_M_WEATHER'].isnull()==False)]\n",
    "X = df60min[features_rain]\n",
    "y = df60min['GT_M_RAIN_PERCENTAGE']\n",
    "\n",
    "# Split the data\n",
    "X_train, X_test, y_train, y_test = train_test_split(X, y, test_size=0.33)\n",
    "\n",
    "\n"
   ]
  },
  {
   "cell_type": "code",
   "execution_count": 57,
   "id": "20dc9367",
   "metadata": {},
   "outputs": [
    {
     "name": "stdout",
     "output_type": "stream",
     "text": [
      "Mean Absolute Error: 0.1335189012661938\n",
      "Mean Squared Error: 0.16241826263631384\n",
      "Root Mean Squared Error: 0.40301149194075575\n"
     ]
    }
   ],
   "source": [
    "from sklearn.ensemble import RandomForestRegressor\n",
    "\n",
    "model_1 = RandomForestRegressor()\n",
    "\n",
    "# Fit the model\n",
    "model_1.fit(X_train, y_train)\n",
    "\n",
    "# prediction on test set\n",
    "y_pred=model_1.predict(X_test)\n",
    "\n",
    "#Import scikit-learn metrics module for accuracy calculation\n",
    "from sklearn import metrics\n",
    "# Model Accuracy, how often is the classifier correct?\n",
    "print('Mean Absolute Error:', metrics.mean_absolute_error(y_test, y_pred))\n",
    "print('Mean Squared Error:', metrics.mean_squared_error(y_test, y_pred))\n",
    "print('Root Mean Squared Error:', np.sqrt(metrics.mean_squared_error(y_test, y_pred)))\n",
    "\n"
   ]
  },
  {
   "cell_type": "code",
   "execution_count": 58,
   "id": "7545dd7d",
   "metadata": {},
   "outputs": [],
   "source": [
    "# Save the model. \n",
    "filename = 'Models/Rain_RandomForestRegressor.pkl'\n",
    "# Open the file to save as pkl file\n",
    "regressor_pkl = open(filename, 'wb')\n",
    "pickle.dump(model_1, regressor_pkl)\n",
    "# Close the pickle instances\n",
    "regressor_pkl.close()"
   ]
  },
  {
   "cell_type": "markdown",
   "id": "479262d9",
   "metadata": {},
   "source": [
    " Visualize the feature importance "
   ]
  },
  {
   "cell_type": "code",
   "execution_count": 59,
   "id": "a5951514",
   "metadata": {},
   "outputs": [
    {
     "name": "stderr",
     "output_type": "stream",
     "text": [
      "No artists with labels found to put in legend.  Note that artists whose label start with an underscore are ignored when legend() is called with no argument.\n"
     ]
    },
    {
     "data": {
      "image/png": "[encoded data removed]",
      "text/plain": [
       "<Figure size 432x288 with 1 Axes>"
      ]
     },
     "metadata": {
      "needs_background": "light"
     },
     "output_type": "display_data"
    }
   ],
   "source": [
    "# Feature importance\n",
    "import pandas as pd\n",
    "feature_imp = pd.Series(model_1.feature_importances_,index=features_rain).sort_values(ascending=False)\n",
    "feature_imp\n",
    "\n",
    "import matplotlib.pyplot as plt\n",
    "import seaborn as sns\n",
    "%matplotlib inline\n",
    "# Creating a bar plot\n",
    "sns.barplot(x=feature_imp, y=feature_imp.index)\n",
    "# Add labels to your graph\n",
    "plt.xlabel('Feature Importance Score')\n",
    "plt.ylabel('Features')\n",
    "plt.title(\"Visualizing Important Features\")\n",
    "plt.legend()\n",
    "plt.show()\n"
   ]
  },
  {
   "cell_type": "markdown",
   "id": "fe399679",
   "metadata": {},
   "source": [
    "### 2.2.1 Model 2: DecisionTreeRegressor"
   ]
  },
  {
   "cell_type": "code",
   "execution_count": 68,
   "id": "9488db7b",
   "metadata": {},
   "outputs": [
    {
     "name": "stdout",
     "output_type": "stream",
     "text": [
      "Mean Absolute Error: 0.1336481772416192\n",
      "Mean Squared Error: 0.16233357803837917\n",
      "Root Mean Squared Error: 0.4029064134986922\n"
     ]
    }
   ],
   "source": [
    "from sklearn.tree import DecisionTreeRegressor\n",
    "model_2 = DecisionTreeRegressor()\n",
    "\n",
    "# Fit the model\n",
    "model_2.fit(X_train, y_train)\n",
    "\n",
    "# prediction on test set\n",
    "y_pred=model_2.predict(X_test)\n",
    "\n",
    "#Import scikit-learn metrics module for accuracy calculation\n",
    "from sklearn import metrics\n",
    "# Model Accuracy, how often is the classifier correct?\n",
    "print('Mean Absolute Error:', metrics.mean_absolute_error(y_test, y_pred))\n",
    "print('Mean Squared Error:', metrics.mean_squared_error(y_test, y_pred))\n",
    "print('Root Mean Squared Error:', np.sqrt(metrics.mean_squared_error(y_test, y_pred)))"
   ]
  },
  {
   "cell_type": "code",
   "execution_count": 72,
   "id": "27eb99ad",
   "metadata": {},
   "outputs": [],
   "source": [
    "# Save the model. \n",
    "filename = 'Models/Rain_DecisionTreeRegressor.pkl'\n",
    "# Open the file to save as pkl file\n",
    "regressor_pkl = open(filename, 'wb')\n",
    "pickle.dump(model_2, regressor_pkl)\n",
    "# Close the pickle instances\n",
    "regressor_pkl.close()\n",
    "\n"
   ]
  },
  {
   "cell_type": "markdown",
   "id": "9332286c",
   "metadata": {},
   "source": [
    " Visualize the feature importance "
   ]
  },
  {
   "cell_type": "code",
   "execution_count": 73,
   "id": "9776c0ed",
   "metadata": {},
   "outputs": [
    {
     "name": "stderr",
     "output_type": "stream",
     "text": [
      "No artists with labels found to put in legend.  Note that artists whose label start with an underscore are ignored when legend() is called with no argument.\n"
     ]
    },
    {
     "data": {
      "image/png": "[encoded data removed]",
      "text/plain": [
       "<Figure size 432x288 with 1 Axes>"
      ]
     },
     "metadata": {
      "needs_background": "light"
     },
     "output_type": "display_data"
    }
   ],
   "source": [
    "# Feature importance\n",
    "import pandas as pd\n",
    "feature_imp = pd.Series(model_2.feature_importances_,index=features).sort_values(ascending=False)\n",
    "feature_imp\n",
    "\n",
    "import matplotlib.pyplot as plt\n",
    "import seaborn as sns\n",
    "%matplotlib inline\n",
    "# Creating a bar plot\n",
    "sns.barplot(x=feature_imp, y=feature_imp.index)\n",
    "# Add labels to your graph\n",
    "plt.xlabel('Feature Importance Score')\n",
    "plt.ylabel('Features')\n",
    "plt.title(\"Visualizing Important Features\")\n",
    "plt.legend()\n",
    "plt.show()\n",
    "\n"
   ]
  },
  {
   "cell_type": "markdown",
   "id": "dfc1def2",
   "metadata": {},
   "source": [
    "# 3 MODEL IMPLEMENTATION <a class=\"anchor\" id=\"third-bullet\"></a>\n",
    "\n",
    "\n",
    "Both models previously proposed to forecast the wheather type and rain percentage are join together to produce the decired output dictionary. "
   ]
  },
  {
   "cell_type": "code",
   "execution_count": 74,
   "id": "90cefddb",
   "metadata": {},
   "outputs": [
    {
     "name": "stdout",
     "output_type": "stream",
     "text": [
      "Loaded weather forecast model ::  RandomForestClassifier(class_weight='balanced', max_depth=4)\n",
      "Loaded rain probability forecast model ::  DecisionTreeRegressor()\n",
      "\n",
      "Predicting...\n",
      "\n",
      "\n",
      "Inference Resul:\n",
      "\n",
      "{\n",
      "  \"5\": {\n",
      "    \"type\": 2,\n",
      "    \"rain_percentage\": 0.16\n",
      "  },\n",
      "  \"10\": {\n",
      "    \"type\": 2,\n",
      "    \"rain_percentage\": 0.16\n",
      "  },\n",
      "  \"15\": {\n",
      "    \"type\": 2,\n",
      "    \"rain_percentage\": 0.16\n",
      "  },\n",
      "  \"30\": {\n",
      "    \"type\": 2,\n",
      "    \"rain_percentage\": 0.11\n",
      "  },\n",
      "  \"60\": {\n",
      "    \"type\": 2,\n",
      "    \"rain_percentage\": 0.03\n",
      "  }\n",
      "}\n"
     ]
    }
   ],
   "source": [
    "import pandas as pd\n",
    "import json\n",
    "\n",
    "\n",
    "# Load the data\n",
    "DATASET = pd.read_csv('Data/cleaned_data_gt.csv',low_memory=False)\n",
    "\n",
    "# Loading the saved models pickle\n",
    "model_weather_pkl = open('Models/Weather_RandomForestClassifier.pkl', 'rb')\n",
    "model_weather = pickle.load(model_weather_pkl)\n",
    "print(\"Loaded weather forecast model :: \", model_weather)\n",
    "model_rain_pkl = open('Models/Rain_DecisionTreeRegressor.pkl', 'rb')\n",
    "model_rain = pickle.load(model_rain_pkl)\n",
    "print(\"Loaded rain probability forecast model :: \", model_rain)\n",
    "\n",
    "\n",
    "def select_sample(DATA, session_uid, session_type, timestamp):\n",
    "    # This function filter the features from the data, a session_uid, session_type and timestamp need to be provided. \n",
    "    features = ['M_TIME_OFFSET','M_TRACK_TEMPERATURE','M_AIR_TEMPERATURE','M_RAIN_PERCENTAGE',\n",
    "                'M_WEATHER','M_WEATHER_FORECAST_SAMPLES_M_WEATHER','M_WEATHER_FORECAST_SAMPLES_M_TRACK_TEMPERATURE',\n",
    "                'M_TRACK_TEMPERATURE_CHANGE','M_WEATHER_FORECAST_SAMPLES_M_AIR_TEMPERATURE','M_AIR_TEMPERATURE_CHANGE']\n",
    "    D = DATA[(DATA['M_SESSION_UID']==session_uid) & \n",
    "                (DATA['TIMESTAMP']==timestamp) &\n",
    "                (DATA['M_WEATHER_FORECAST_SAMPLES_M_SESSION_TYPE']==session_type)&\n",
    "                 (DATA['M_TIME_OFFSET']>0)];\n",
    "    \n",
    "    # filter features for each model.\n",
    "    sample = D[features].reset_index(drop=True);\n",
    "    return sample\n",
    "\n",
    "def get_forecast(DATA_SAMPLE):\n",
    "    # This function makes the prediction of weather type and rain percentage and produces the output dictionary. \n",
    "    print('\\nPredicting...\\n') \n",
    "    prediction ={}\n",
    "    # make the predictions. \n",
    "    weather_prediction = model_weather.predict(DATA_SAMPLE)\n",
    "    rain_prediction = model_rain.predict(DATA_SAMPLE)/100\n",
    "    # extract the data and create dictionary. \n",
    "    \n",
    "    time_offsets = DATA_SAMPLE['M_TIME_OFFSET'].unique();\n",
    "    \n",
    "    for t in range(len(time_offsets)):\n",
    "        idx = DATA_SAMPLE.index[DATA_SAMPLE['M_TIME_OFFSET'] == time_offsets[t]].tolist()\n",
    "        prediction[str(int(time_offsets[t]))] = {'type':int(weather_prediction[idx[0]]),'rain_percentage':rain_prediction[idx[0]] }\n",
    "    return prediction\n",
    "\n",
    "data_sample = select_sample(DATASET, session_uid=10929277407573190380, session_type=10, timestamp=1642132948)\n",
    "prediction = get_forecast(data_sample)\n",
    "\n",
    "# Print the result dictionary. \n",
    "print(\"\\nInference Resul:\\n\")\n",
    "print(json.dumps(prediction, indent=2))"
   ]
  },
  {
   "cell_type": "code",
   "execution_count": null,
   "id": "62e37c59",
   "metadata": {},
   "outputs": [],
   "source": []
  },
  {
   "cell_type": "code",
   "execution_count": null,
   "id": "efd03bc5",
   "metadata": {},
   "outputs": [],
   "source": []
  }
 ],
 "metadata": {
  "kernelspec": {
   "display_name": "Python 3 (ipykernel)",
   "language": "python",
   "name": "python3"
  },
  "language_info": {
   "codemirror_mode": {
    "name": "ipython",
    "version": 3
   },
   "file_extension": ".py",
   "mimetype": "text/x-python",
   "name": "python",
   "nbconvert_exporter": "python",
   "pygments_lexer": "ipython3",
   "version": "3.10.2"
  }
 },
 "nbformat": 4,
 "nbformat_minor": 5
}
